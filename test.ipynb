{
 "nbformat": 4,
 "nbformat_minor": 2,
 "metadata": {
  "language_info": {
   "name": "python",
   "codemirror_mode": {
    "name": "ipython",
    "version": 3
   },
   "version": "3.8.1-final"
  },
  "orig_nbformat": 2,
  "file_extension": ".py",
  "mimetype": "text/x-python",
  "name": "python",
  "npconvert_exporter": "python",
  "pygments_lexer": "ipython3",
  "version": 3,
  "kernelspec": {
   "name": "python38132bit4830ac73f0354deeac728706a9741a22",
   "display_name": "Python 3.8.1 32-bit"
  }
 },
 "cells": [
  {
   "cell_type": "code",
   "execution_count": 2,
   "metadata": {},
   "outputs": [
    {
     "data": {
      "text/html": "<div>\n<style scoped>\n    .dataframe tbody tr th:only-of-type {\n        vertical-align: middle;\n    }\n\n    .dataframe tbody tr th {\n        vertical-align: top;\n    }\n\n    .dataframe thead th {\n        text-align: right;\n    }\n</style>\n<table border=\"1\" class=\"dataframe\">\n  <thead>\n    <tr style=\"text-align: right;\">\n      <th></th>\n      <th>'TIP'</th>\n      <th>'CLANOV'</th>\n      <th>'OTROK'</th>\n      <th>'DOHODEK'</th>\n      <th>'CETRT'</th>\n      <th>'IZOBRAZBA'</th>\n    </tr>\n  </thead>\n  <tbody>\n    <tr>\n      <th>0</th>\n      <td>1</td>\n      <td>2</td>\n      <td>0</td>\n      <td>43450</td>\n      <td>1</td>\n      <td>39</td>\n    </tr>\n    <tr>\n      <th>1</th>\n      <td>1</td>\n      <td>2</td>\n      <td>0</td>\n      <td>79000</td>\n      <td>1</td>\n      <td>40</td>\n    </tr>\n    <tr>\n      <th>2</th>\n      <td>1</td>\n      <td>2</td>\n      <td>0</td>\n      <td>51306</td>\n      <td>1</td>\n      <td>39</td>\n    </tr>\n    <tr>\n      <th>3</th>\n      <td>1</td>\n      <td>4</td>\n      <td>2</td>\n      <td>24850</td>\n      <td>1</td>\n      <td>41</td>\n    </tr>\n    <tr>\n      <th>4</th>\n      <td>1</td>\n      <td>4</td>\n      <td>2</td>\n      <td>65145</td>\n      <td>1</td>\n      <td>43</td>\n    </tr>\n    <tr>\n      <th>5</th>\n      <td>3</td>\n      <td>3</td>\n      <td>2</td>\n      <td>23015</td>\n      <td>1</td>\n      <td>40</td>\n    </tr>\n    <tr>\n      <th>6</th>\n      <td>3</td>\n      <td>2</td>\n      <td>1</td>\n      <td>26000</td>\n      <td>1</td>\n      <td>40</td>\n    </tr>\n    <tr>\n      <th>7</th>\n      <td>1</td>\n      <td>2</td>\n      <td>0</td>\n      <td>13112</td>\n      <td>1</td>\n      <td>39</td>\n    </tr>\n    <tr>\n      <th>8</th>\n      <td>3</td>\n      <td>3</td>\n      <td>2</td>\n      <td>5436</td>\n      <td>1</td>\n      <td>39</td>\n    </tr>\n    <tr>\n      <th>9</th>\n      <td>1</td>\n      <td>2</td>\n      <td>0</td>\n      <td>103524</td>\n      <td>1</td>\n      <td>45</td>\n    </tr>\n  </tbody>\n</table>\n</div>",
      "text/plain": "   'TIP'  'CLANOV'  'OTROK'  'DOHODEK'  'CETRT'  'IZOBRAZBA'\n0      1         2        0      43450        1           39\n1      1         2        0      79000        1           40\n2      1         2        0      51306        1           39\n3      1         4        2      24850        1           41\n4      1         4        2      65145        1           43\n5      3         3        2      23015        1           40\n6      3         2        1      26000        1           40\n7      1         2        0      13112        1           39\n8      3         3        2       5436        1           39\n9      1         2        0     103524        1           45"
     },
     "execution_count": 2,
     "metadata": {},
     "output_type": "execute_result"
    }
   ],
   "source": [
    "import random\n",
    "import pandas as pd\n",
    "import os.path\n",
    "\n",
    "n = 200\n",
    "state = 1\n",
    "\n",
    "path = os.path.join(\"podatki\", \"Kibergrad.csv\")\n",
    "data = pd.read_csv(path)\n",
    "\n",
    "data.head(10)"
   ]
  },
  {
   "cell_type": "code",
   "execution_count": 5,
   "metadata": {},
   "outputs": [
    {
     "name": "stdout",
     "output_type": "stream",
     "text": "Povprečje na vzorcu je 0.97\n"
    }
   ],
   "source": [
    "children = data[\"'OTROK'\"]\n",
    "children.head(10)\n",
    "\n",
    "sample = children.sample(n, random_state=state)\n",
    "\n",
    "average = sample.mean()\n",
    "print(\"Povprečje na vzorcu je\", average)"
   ]
  },
  {
   "cell_type": "code",
   "execution_count": null,
   "metadata": {},
   "outputs": [],
   "source": []
  }
 ]
}