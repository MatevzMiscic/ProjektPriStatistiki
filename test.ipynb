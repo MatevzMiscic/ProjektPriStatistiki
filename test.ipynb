{
 "nbformat": 4,
 "nbformat_minor": 2,
 "metadata": {
  "language_info": {
   "name": "python",
   "codemirror_mode": {
    "name": "ipython",
    "version": 3
   },
   "version": "3.8.1-final"
  },
  "orig_nbformat": 2,
  "file_extension": ".py",
  "mimetype": "text/x-python",
  "name": "python",
  "npconvert_exporter": "python",
  "pygments_lexer": "ipython3",
  "version": 3,
  "kernelspec": {
   "name": "python38132bit4830ac73f0354deeac728706a9741a22",
   "display_name": "Python 3.8.1 32-bit"
  }
 },
 "cells": [
  {
   "cell_type": "code",
   "execution_count": 20,
   "metadata": {},
   "outputs": [
    {
     "output_type": "execute_result",
     "data": {
      "text/plain": "   'TIP'  'CLANOV'  'OTROK'  'DOHODEK'  'CETRT'  'IZOBRAZBA'\n0      1         2        0      43450        1           39\n1      1         2        0      79000        1           40\n2      1         2        0      51306        1           39\n3      1         4        2      24850        1           41\n4      1         4        2      65145        1           43\n5      3         3        2      23015        1           40\n6      3         2        1      26000        1           40\n7      1         2        0      13112        1           39\n8      3         3        2       5436        1           39\n9      1         2        0     103524        1           45",
      "text/html": "<div>\n<style scoped>\n    .dataframe tbody tr th:only-of-type {\n        vertical-align: middle;\n    }\n\n    .dataframe tbody tr th {\n        vertical-align: top;\n    }\n\n    .dataframe thead th {\n        text-align: right;\n    }\n</style>\n<table border=\"1\" class=\"dataframe\">\n  <thead>\n    <tr style=\"text-align: right;\">\n      <th></th>\n      <th>'TIP'</th>\n      <th>'CLANOV'</th>\n      <th>'OTROK'</th>\n      <th>'DOHODEK'</th>\n      <th>'CETRT'</th>\n      <th>'IZOBRAZBA'</th>\n    </tr>\n  </thead>\n  <tbody>\n    <tr>\n      <th>0</th>\n      <td>1</td>\n      <td>2</td>\n      <td>0</td>\n      <td>43450</td>\n      <td>1</td>\n      <td>39</td>\n    </tr>\n    <tr>\n      <th>1</th>\n      <td>1</td>\n      <td>2</td>\n      <td>0</td>\n      <td>79000</td>\n      <td>1</td>\n      <td>40</td>\n    </tr>\n    <tr>\n      <th>2</th>\n      <td>1</td>\n      <td>2</td>\n      <td>0</td>\n      <td>51306</td>\n      <td>1</td>\n      <td>39</td>\n    </tr>\n    <tr>\n      <th>3</th>\n      <td>1</td>\n      <td>4</td>\n      <td>2</td>\n      <td>24850</td>\n      <td>1</td>\n      <td>41</td>\n    </tr>\n    <tr>\n      <th>4</th>\n      <td>1</td>\n      <td>4</td>\n      <td>2</td>\n      <td>65145</td>\n      <td>1</td>\n      <td>43</td>\n    </tr>\n    <tr>\n      <th>5</th>\n      <td>3</td>\n      <td>3</td>\n      <td>2</td>\n      <td>23015</td>\n      <td>1</td>\n      <td>40</td>\n    </tr>\n    <tr>\n      <th>6</th>\n      <td>3</td>\n      <td>2</td>\n      <td>1</td>\n      <td>26000</td>\n      <td>1</td>\n      <td>40</td>\n    </tr>\n    <tr>\n      <th>7</th>\n      <td>1</td>\n      <td>2</td>\n      <td>0</td>\n      <td>13112</td>\n      <td>1</td>\n      <td>39</td>\n    </tr>\n    <tr>\n      <th>8</th>\n      <td>3</td>\n      <td>3</td>\n      <td>2</td>\n      <td>5436</td>\n      <td>1</td>\n      <td>39</td>\n    </tr>\n    <tr>\n      <th>9</th>\n      <td>1</td>\n      <td>2</td>\n      <td>0</td>\n      <td>103524</td>\n      <td>1</td>\n      <td>45</td>\n    </tr>\n  </tbody>\n</table>\n</div>"
     },
     "metadata": {},
     "execution_count": 20
    }
   ],
   "source": [
    "import random\n",
    "import pandas as pd\n",
    "import os.path\n",
    "import math\n",
    "\n",
    "n = 200\n",
    "state = 1\n",
    "\n",
    "path = os.path.join(\"podatki\", \"Kibergrad.csv\")\n",
    "data = pd.read_csv(path)\n",
    "\n",
    "data.head(10)"
   ]
  },
  {
   "cell_type": "code",
   "execution_count": 9,
   "metadata": {},
   "outputs": [
    {
     "output_type": "execute_result",
     "data": {
      "text/plain": "0    0\n1    0\n2    0\n3    2\n4    2\n5    2\n6    1\n7    0\n8    2\n9    0\nName: 'OTROK', dtype: int64"
     },
     "metadata": {},
     "execution_count": 9
    }
   ],
   "source": [
    "children = data[\"'OTROK'\"]\n",
    "children.head(10)"
   ]
  },
  {
   "cell_type": "code",
   "execution_count": 7,
   "metadata": {},
   "outputs": [
    {
     "output_type": "execute_result",
     "data": {
      "text/plain": "1113     0\n42209    0\n13426    1\n30027    0\n23987    3\n        ..\n42860    1\n41188    2\n31675    3\n39317    0\n20196    1\nName: 'OTROK', Length: 200, dtype: int64"
     },
     "metadata": {},
     "execution_count": 7
    }
   ],
   "source": [
    "sample = children.sample(n, random_state=state)\n",
    "sample"
   ]
  },
  {
   "cell_type": "code",
   "execution_count": 15,
   "metadata": {},
   "outputs": [
    {
     "output_type": "stream",
     "name": "stdout",
     "text": "Povprečje na vzorcu je 0.97\n"
    }
   ],
   "source": [
    "avg = sample.mean()\n",
    "print(\"Povprečje na vzorcu je\", avg)"
   ]
  },
  {
   "cell_type": "code",
   "execution_count": 16,
   "metadata": {},
   "outputs": [
    {
     "output_type": "stream",
     "name": "stdout",
     "text": "0.97\n"
    }
   ],
   "source": [
    "avg2 = 0\n",
    "for index, row in sample.items():\n",
    "    avg2 += row\n",
    "print(avg2/n)"
   ]
  },
  {
   "cell_type": "code",
   "execution_count": 24,
   "metadata": {},
   "outputs": [
    {
     "output_type": "stream",
     "name": "stdout",
     "text": "0\n0\n1\n0\n3\n0\n1\n0\n1\n2\n0\n1\n2\n0\n3\n0\n0\n2\n0\n1\n0\n0\n2\n2\n1\n1\n0\n2\n0\n0\n2\n0\n0\n3\n0\n1\n5\n2\n2\n0\n0\n0\n0\n3\n0\n1\n1\n0\n0\n0\n1\n2\n0\n0\n1\n0\n0\n0\n0\n2\n1\n0\n2\n0\n0\n0\n3\n1\n2\n0\n1\n0\n1\n0\n0\n0\n2\n0\n1\n0\n0\n0\n1\n0\n3\n0\n2\n0\n2\n0\n0\n2\n0\n2\n0\n2\n3\n2\n0\n1\n1\n0\n1\n3\n0\n4\n0\n0\n0\n2\n1\n1\n1\n1\n1\n0\n3\n1\n4\n1\n0\n2\n0\n0\n0\n1\n1\n1\n2\n0\n0\n1\n2\n1\n2\n0\n1\n2\n1\n2\n0\n2\n0\n3\n0\n0\n0\n0\n0\n1\n2\n0\n3\n0\n0\n3\n2\n2\n0\n0\n2\n2\n2\n0\n0\n3\n0\n1\n0\n0\n3\n1\n3\n1\n0\n0\n1\n0\n1\n0\n2\n0\n0\n1\n0\n2\n2\n2\n1\n2\n3\n2\n0\n2\n1\n1\n2\n3\n0\n1\n16.08866178993626\n"
    }
   ],
   "source": [
    "N = children.size\n",
    "\n",
    "SE2 = 0\n",
    "for val in sample.items():\n",
    "    SE2 += (val[1] - avg) ** 2\n",
    "    print(val[1])\n",
    "SE2 *= (N - n) / (n * (n - 1))\n",
    "SE = math.sqrt(SE2)\n",
    "print(SE)"
   ]
  },
  {
   "cell_type": "code",
   "execution_count": null,
   "metadata": {},
   "outputs": [],
   "source": []
  }
 ]
}