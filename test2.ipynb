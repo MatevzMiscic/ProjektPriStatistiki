{
 "nbformat": 4,
 "nbformat_minor": 2,
 "metadata": {
  "language_info": {
   "name": "python",
   "codemirror_mode": {
    "name": "ipython",
    "version": 3
   },
   "version": "3.8.1-final"
  },
  "orig_nbformat": 2,
  "file_extension": ".py",
  "mimetype": "text/x-python",
  "name": "python",
  "npconvert_exporter": "python",
  "pygments_lexer": "ipython3",
  "version": 3,
  "kernelspec": {
   "name": "python38132bit4830ac73f0354deeac728706a9741a22",
   "display_name": "Python 3.8.1 32-bit"
  }
 },
 "cells": [
  {
   "cell_type": "code",
   "execution_count": 5,
   "metadata": {},
   "outputs": [
    {
     "data": {
      "text/html": "<div>\n<style scoped>\n    .dataframe tbody tr th:only-of-type {\n        vertical-align: middle;\n    }\n\n    .dataframe tbody tr th {\n        vertical-align: top;\n    }\n\n    .dataframe thead th {\n        text-align: right;\n    }\n</style>\n<table border=\"1\" class=\"dataframe\">\n  <thead>\n    <tr style=\"text-align: right;\">\n      <th></th>\n      <th>X</th>\n    </tr>\n  </thead>\n  <tbody>\n    <tr>\n      <th>0</th>\n      <td>110</td>\n    </tr>\n    <tr>\n      <th>1</th>\n      <td>15</td>\n    </tr>\n    <tr>\n      <th>2</th>\n      <td>60</td>\n    </tr>\n    <tr>\n      <th>3</th>\n      <td>54</td>\n    </tr>\n    <tr>\n      <th>4</th>\n      <td>19</td>\n    </tr>\n    <tr>\n      <th>5</th>\n      <td>115</td>\n    </tr>\n    <tr>\n      <th>6</th>\n      <td>73</td>\n    </tr>\n    <tr>\n      <th>7</th>\n      <td>190</td>\n    </tr>\n    <tr>\n      <th>8</th>\n      <td>57</td>\n    </tr>\n    <tr>\n      <th>9</th>\n      <td>43</td>\n    </tr>\n  </tbody>\n</table>\n</div>",
      "text/plain": "     X\n0  110\n1   15\n2   60\n3   54\n4   19\n5  115\n6   73\n7  190\n8   57\n9   43"
     },
     "execution_count": 5,
     "metadata": {},
     "output_type": "execute_result"
    }
   ],
   "source": [
    "import random\n",
    "import math\n",
    "import pandas as pd\n",
    "import os.path\n",
    "import matplotlib.pyplot as plt\n",
    "from scipy.stats import lognorm\n",
    "import numpy as np\n",
    "\n",
    "path = os.path.join(\"podatki\", \"Hobotnice.csv\")\n",
    "data = pd.read_csv(path, names=[\"X\"])\n",
    "\n",
    "data.head(10)"
   ]
  },
  {
   "cell_type": "code",
   "execution_count": 8,
   "metadata": {},
   "outputs": [
    {
     "name": "stdout",
     "output_type": "stream",
     "text": "110\n15\n60\n54\n19\n115\n73\n190\n57\n43\n44\n18\n37\n43\n55\n19\n23\n82\n175\n50\n80\n65\n63\n36\n16\n10\n17\n52\n43\n70\n22\n95\n20\n41\n17\n15\n12\n11\n29\n29\n61\n22\n40\n17\n26\n30\n16\n116\n28\n32\n33\n29\n27\n16\n55\n8\n11\n49\n82\n85\n20\n67\n27\n44\n16\n6\n35\n17\n26\n32\n76\n150\n21\n5\n6\n51\n75\n23\n29\n64\n22\n47\n9\n10\n28\n18\n84\n52\n130\n50\n45\n12\n21\n73\n"
    }
   ],
   "source": [
    "for _, x in data.X.items():\n",
    "    print(x)"
   ]
  },
  {
   "cell_type": "code",
   "execution_count": null,
   "metadata": {},
   "outputs": [],
   "source": []
  }
 ]
}